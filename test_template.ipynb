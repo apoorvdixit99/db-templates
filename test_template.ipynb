{
 "cells": [
  {
   "cell_type": "markdown",
   "metadata": {},
   "source": [
    "# Install mysql connector"
   ]
  },
  {
   "cell_type": "code",
   "execution_count": 1,
   "metadata": {},
   "outputs": [
    {
     "name": "stdout",
     "output_type": "stream",
     "text": [
      "Collecting mysql-connector-python\n",
      "  Downloading mysql_connector_python-9.0.0-cp312-cp312-win_amd64.whl.metadata (2.0 kB)\n",
      "Downloading mysql_connector_python-9.0.0-cp312-cp312-win_amd64.whl (14.3 MB)\n",
      "   ---------------------------------------- 0.0/14.3 MB ? eta -:--:--\n",
      "   ----- ---------------------------------- 2.1/14.3 MB 16.8 MB/s eta 0:00:01\n",
      "   --------------------- ------------------ 7.9/14.3 MB 23.2 MB/s eta 0:00:01\n",
      "   ---------------------------------------  14.2/14.3 MB 26.2 MB/s eta 0:00:01\n",
      "   ---------------------------------------- 14.3/14.3 MB 24.4 MB/s eta 0:00:00\n",
      "Installing collected packages: mysql-connector-python\n",
      "Successfully installed mysql-connector-python-9.0.0\n",
      "Note: you may need to restart the kernel to use updated packages.\n"
     ]
    }
   ],
   "source": [
    "%pip install mysql-connector-python"
   ]
  },
  {
   "cell_type": "markdown",
   "metadata": {},
   "source": [
    "# Test MySQL Templates"
   ]
  },
  {
   "cell_type": "code",
   "execution_count": 1,
   "metadata": {},
   "outputs": [
    {
     "data": {
      "text/plain": [
       "{'query': 'SELECT * from current_dept_emp limit 5',\n",
       " 'result': [(10001,\n",
       "   'd005',\n",
       "   datetime.date(1986, 6, 26),\n",
       "   datetime.date(9999, 1, 1)),\n",
       "  (10002, 'd007', datetime.date(1996, 8, 3), datetime.date(9999, 1, 1)),\n",
       "  (10003, 'd004', datetime.date(1995, 12, 3), datetime.date(9999, 1, 1)),\n",
       "  (10004, 'd004', datetime.date(1986, 12, 1), datetime.date(9999, 1, 1)),\n",
       "  (10005, 'd003', datetime.date(1989, 9, 12), datetime.date(9999, 1, 1))],\n",
       " 'message': 'success'}"
      ]
     },
     "execution_count": 1,
     "metadata": {},
     "output_type": "execute_result"
    }
   ],
   "source": [
    "from mysql_template import MySQLTemplate\n",
    "\n",
    "template = MySQLTemplate()\n",
    "template.template_select()"
   ]
  },
  {
   "cell_type": "code",
   "execution_count": 2,
   "metadata": {},
   "outputs": [
    {
     "data": {
      "text/plain": [
       "{'query': 'SELECT * from employees limit 5',\n",
       " 'result': [(10001,\n",
       "   datetime.date(1953, 9, 2),\n",
       "   'Georgi',\n",
       "   'Facello',\n",
       "   'M',\n",
       "   datetime.date(1986, 6, 26)),\n",
       "  (10002,\n",
       "   datetime.date(1964, 6, 2),\n",
       "   'Bezalel',\n",
       "   'Simmel',\n",
       "   'F',\n",
       "   datetime.date(1985, 11, 21)),\n",
       "  (10003,\n",
       "   datetime.date(1959, 12, 3),\n",
       "   'Parto',\n",
       "   'Bamford',\n",
       "   'M',\n",
       "   datetime.date(1986, 8, 28)),\n",
       "  (10004,\n",
       "   datetime.date(1954, 5, 1),\n",
       "   'Chirstian',\n",
       "   'Koblick',\n",
       "   'M',\n",
       "   datetime.date(1986, 12, 1)),\n",
       "  (10005,\n",
       "   datetime.date(1955, 1, 21),\n",
       "   'Kyoichi',\n",
       "   'Maliniak',\n",
       "   'M',\n",
       "   datetime.date(1989, 9, 12))],\n",
       " 'message': 'success'}"
      ]
     },
     "execution_count": 2,
     "metadata": {},
     "output_type": "execute_result"
    }
   ],
   "source": [
    "template.template_limit()"
   ]
  }
 ],
 "metadata": {
  "kernelspec": {
   "display_name": ".venv",
   "language": "python",
   "name": "python3"
  },
  "language_info": {
   "codemirror_mode": {
    "name": "ipython",
    "version": 3
   },
   "file_extension": ".py",
   "mimetype": "text/x-python",
   "name": "python",
   "nbconvert_exporter": "python",
   "pygments_lexer": "ipython3",
   "version": "3.12.2"
  }
 },
 "nbformat": 4,
 "nbformat_minor": 2
}
